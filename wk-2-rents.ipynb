{
 "cells": [
  {
   "cell_type": "code",
   "execution_count": 1,
   "id": "60125988",
   "metadata": {},
   "outputs": [
    {
     "data": {
      "text/plain": [
       "25.0"
      ]
     },
     "execution_count": 1,
     "metadata": {},
     "output_type": "execute_result"
    }
   ],
   "source": [
    "700 / (900+1_200+700)*100"
   ]
  },
  {
   "cell_type": "code",
   "execution_count": 2,
   "id": "cd1b46e3",
   "metadata": {},
   "outputs": [],
   "source": [
    "## assigning variable names\n",
    "alfred_monthly_23 = 900 \n",
    "fatima_monthly_23 = 1_200\n",
    "trina_monthly_23 = 700"
   ]
  },
  {
   "cell_type": "code",
   "execution_count": 3,
   "id": "b684ed9e",
   "metadata": {},
   "outputs": [],
   "source": [
    "## assigning variable names more efficiently\n",
    "alfred_m, fatima_m, trina_m = 900, 1_200, 700"
   ]
  },
  {
   "cell_type": "code",
   "execution_count": 4,
   "id": "5c97d791",
   "metadata": {},
   "outputs": [
    {
     "data": {
      "text/plain": [
       "1200"
      ]
     },
     "execution_count": 4,
     "metadata": {},
     "output_type": "execute_result"
    }
   ],
   "source": [
    "## call vars\n",
    "alfred_m\n",
    "fatima_monthly_23\n",
    "# trina_m"
   ]
  },
  {
   "cell_type": "code",
   "execution_count": 5,
   "id": "f8b64950",
   "metadata": {},
   "outputs": [
    {
     "data": {
      "text/plain": [
       "(900, 1200, 700)"
      ]
     },
     "execution_count": 5,
     "metadata": {},
     "output_type": "execute_result"
    }
   ],
   "source": [
    "## you can also call vars this way\n",
    "alfred_m, fatima_monthly_23, trina_m"
   ]
  },
  {
   "cell_type": "code",
   "execution_count": 6,
   "id": "88b9d182",
   "metadata": {},
   "outputs": [
    {
     "data": {
      "text/plain": [
       "25.0"
      ]
     },
     "execution_count": 6,
     "metadata": {},
     "output_type": "execute_result"
    }
   ],
   "source": [
    "## to calculate trina's share using vars\n",
    "trina_m / (alfred_m + fatima_m + trina_m) *100"
   ]
  },
  {
   "cell_type": "code",
   "execution_count": 7,
   "id": "a7bd3991",
   "metadata": {},
   "outputs": [
    {
     "data": {
      "text/plain": [
       "25.0"
      ]
     },
     "execution_count": 7,
     "metadata": {},
     "output_type": "execute_result"
    }
   ],
   "source": [
    "## create a variable for the result, and then call the variable \n",
    "trina_share_23 = trina_m / (alfred_m + fatima_m + trina_m) *100\n",
    "trina_share_23"
   ]
  },
  {
   "cell_type": "code",
   "execution_count": 8,
   "id": "0ab3f1bb",
   "metadata": {},
   "outputs": [],
   "source": [
    "## easier to read\n",
    "trina_share_23 = \\\n",
    "trina_m / (alfred_m +\\\n",
    "           fatima_m +\\\n",
    "           trina_m) *\\\n",
    "                    100"
   ]
  },
  {
   "cell_type": "code",
   "execution_count": 9,
   "id": "fb7ea7a7",
   "metadata": {},
   "outputs": [
    {
     "name": "stdout",
     "output_type": "stream",
     "text": [
      "700\n",
      "900\n"
     ]
    }
   ],
   "source": [
    "print (trina_m)\n",
    "print (alfred_m)"
   ]
  },
  {
   "cell_type": "code",
   "execution_count": 12,
   "id": "64f00de5",
   "metadata": {},
   "outputs": [
    {
     "name": "stdout",
     "output_type": "stream",
     "text": [
      "Trina's rent:$700.00\n",
      "Trina pays 25.0 percent of the total rent\n"
     ]
    }
   ],
   "source": [
    "## using f-string\n",
    "print(f\"Trina's rent:${trina_m}.00\")\n",
    "print(f\"Trina pays {trina_share_23} percent of the total rent\")"
   ]
  },
  {
   "cell_type": "code",
   "execution_count": 20,
   "id": "32042974",
   "metadata": {},
   "outputs": [
    {
     "name": "stdout",
     "output_type": "stream",
     "text": [
      "The total monthly rent is: $2,800.00 and Trina pays 25.00% of the monthly total.\n"
     ]
    }
   ],
   "source": [
    "## f-strings can do calculations as well\n",
    "print(f\"The total monthly rent is: \\\n",
    "${alfred_m+fatima_m+trina_m:,}.00 and Trina pays {trina_share_23}0% of the monthly total.\")"
   ]
  }
 ],
 "metadata": {
  "kernelspec": {
   "display_name": "Python 3 (ipykernel)",
   "language": "python",
   "name": "python3"
  },
  "language_info": {
   "codemirror_mode": {
    "name": "ipython",
    "version": 3
   },
   "file_extension": ".py",
   "mimetype": "text/x-python",
   "name": "python",
   "nbconvert_exporter": "python",
   "pygments_lexer": "ipython3",
   "version": "3.11.5"
  }
 },
 "nbformat": 4,
 "nbformat_minor": 5
}
