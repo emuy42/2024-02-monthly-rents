{
 "cells": [
  {
   "cell_type": "code",
   "execution_count": 1,
   "id": "60125988",
   "metadata": {},
   "outputs": [
    {
     "data": {
      "text/plain": [
       "25.0"
      ]
     },
     "execution_count": 1,
     "metadata": {},
     "output_type": "execute_result"
    }
   ],
   "source": [
    "700 / (900+1_200+700)*100"
   ]
  },
  {
   "cell_type": "code",
   "execution_count": 4,
   "id": "cd1b46e3",
   "metadata": {},
   "outputs": [],
   "source": [
    "## assigning variable names\n",
    "alfred_monthly_23 = 900 \n",
    "fatima_monthly_23 = 1_200\n",
    "trina_monthly_23 = 700"
   ]
  },
  {
   "cell_type": "code",
   "execution_count": 8,
   "id": "b684ed9e",
   "metadata": {},
   "outputs": [],
   "source": [
    "## assigning variable names more efficiently\n",
    "alfred_m, fatima_m, trina_m = 900, 1_200, 700"
   ]
  },
  {
   "cell_type": "code",
   "execution_count": 12,
   "id": "5c97d791",
   "metadata": {},
   "outputs": [
    {
     "data": {
      "text/plain": [
       "1200"
      ]
     },
     "execution_count": 12,
     "metadata": {},
     "output_type": "execute_result"
    }
   ],
   "source": [
    "## call vars\n",
    "alfred_m\n",
    "fatima_monthly_23\n",
    "# trina_m"
   ]
  },
  {
   "cell_type": "code",
   "execution_count": 14,
   "id": "f8b64950",
   "metadata": {},
   "outputs": [
    {
     "data": {
      "text/plain": [
       "(900, 1200, 700)"
      ]
     },
     "execution_count": 14,
     "metadata": {},
     "output_type": "execute_result"
    }
   ],
   "source": [
    "## you can also call vars this way\n",
    "alfred_m, fatima_monthly_23, trina_m"
   ]
  },
  {
   "cell_type": "code",
   "execution_count": 15,
   "id": "88b9d182",
   "metadata": {},
   "outputs": [
    {
     "data": {
      "text/plain": [
       "25.0"
      ]
     },
     "execution_count": 15,
     "metadata": {},
     "output_type": "execute_result"
    }
   ],
   "source": [
    "## to calculate trina's share using vars\n",
    "trina_m / (alfred_m + fatima_m + trina_m) *100"
   ]
  },
  {
   "cell_type": "code",
   "execution_count": 17,
   "id": "a7bd3991",
   "metadata": {},
   "outputs": [
    {
     "data": {
      "text/plain": [
       "25.0"
      ]
     },
     "execution_count": 17,
     "metadata": {},
     "output_type": "execute_result"
    }
   ],
   "source": [
    "## create a variable for the result, and then call the variable \n",
    "trina_share_23 = trina_m / (alfred_m + fatima_m + trina_m) *100\n",
    "trina_share_23"
   ]
  },
  {
   "cell_type": "code",
   "execution_count": 22,
   "id": "0ab3f1bb",
   "metadata": {},
   "outputs": [
    {
     "ename": "SyntaxError",
     "evalue": "unexpected character after line continuation character (1832143394.py, line 3)",
     "output_type": "error",
     "traceback": [
      "\u001b[0;36m  Cell \u001b[0;32mIn[22], line 3\u001b[0;36m\u001b[0m\n\u001b[0;31m    trina_m / (alfred_m +\\\u001b[0m\n\u001b[0m                           \n^\u001b[0m\n\u001b[0;31mSyntaxError\u001b[0m\u001b[0;31m:\u001b[0m unexpected character after line continuation character\n"
     ]
    }
   ],
   "source": [
    "## easier to read\n",
    "trina_share_23 = \\\n",
    "trina_m / (alfred_m +\\ \n",
    "           fatima_m +\\\n",
    "           trina_m) *\\\n",
    "                    100"
   ]
  }
 ],
 "metadata": {
  "kernelspec": {
   "display_name": "Python 3 (ipykernel)",
   "language": "python",
   "name": "python3"
  },
  "language_info": {
   "codemirror_mode": {
    "name": "ipython",
    "version": 3
   },
   "file_extension": ".py",
   "mimetype": "text/x-python",
   "name": "python",
   "nbconvert_exporter": "python",
   "pygments_lexer": "ipython3",
   "version": "3.11.5"
  }
 },
 "nbformat": 4,
 "nbformat_minor": 5
}
